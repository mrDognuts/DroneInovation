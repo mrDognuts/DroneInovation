{
 "cells": [
  {
   "cell_type": "code",
   "execution_count": 1,
   "metadata": {},
   "outputs": [
    {
     "name": "stderr",
     "output_type": "stream",
     "text": [
      "c:\\Users\\walte\\AppData\\Local\\Programs\\Python\\Python312\\Lib\\site-packages\\fvcore\\common\\checkpoint.py:252: FutureWarning: You are using `torch.load` with `weights_only=False` (the current default value), which uses the default pickle module implicitly. It is possible to construct malicious pickle data which will execute arbitrary code during unpickling (See https://github.com/pytorch/pytorch/blob/main/SECURITY.md#untrusted-models for more details). In a future release, the default value for `weights_only` will be flipped to `True`. This limits the functions that could be executed during unpickling. Arbitrary objects will no longer be allowed to be loaded via this mode unless they are explicitly allowlisted by the user via `torch.serialization.add_safe_globals`. We recommend you start setting `weights_only=True` for any use case where you don't have full control of the loaded file. Please open an issue on GitHub for any issues related to this experimental feature.\n",
      "  return torch.load(f, map_location=torch.device(\"cpu\"))\n",
      "c:\\Users\\walte\\AppData\\Local\\Programs\\Python\\Python312\\Lib\\site-packages\\torch\\functional.py:513: UserWarning: torch.meshgrid: in an upcoming release, it will be required to pass the indexing argument. (Triggered internally at C:\\actions-runner\\_work\\pytorch\\pytorch\\builder\\windows\\pytorch\\aten\\src\\ATen\\native\\TensorShape.cpp:3610.)\n",
      "  return _VF.meshgrid(tensors, **kwargs)  # type: ignore[attr-defined]\n"
     ]
    },
    {
     "name": "stdout",
     "output_type": "stream",
     "text": [
      "Processed and saved to Dataset/after\\car1.1.png\n",
      "Processed and saved to Dataset/after\\car1.2.png\n",
      "Processed and saved to Dataset/after\\car1.3.png\n",
      "Processed and saved to Dataset/after\\car1.4.png\n",
      "Processed and saved to Dataset/after\\car1.5.png\n",
      "Processed and saved to Dataset/after\\car1.6.png\n"
     ]
    }
   ],
   "source": [
    "import os\n",
    "import cv2\n",
    "from detectron2.engine import DefaultPredictor\n",
    "from detectron2.config import get_cfg\n",
    "from detectron2 import model_zoo\n",
    "from detectron2.utils.visualizer import Visualizer, ColorMode\n",
    "\n",
    "def load_model(model_weights=\"./output/model_final.pth\", device=\"cpu\"):\n",
    "    # Load Detectron2 model configuration\n",
    "    cfg = get_cfg()\n",
    "    cfg.merge_from_file(model_zoo.get_config_file(\"COCO-InstanceSegmentation/mask_rcnn_R_50_FPN_3x.yaml\"))\n",
    "    cfg.MODEL.ROI_HEADS.NUM_CLASSES = 2  \n",
    "    cfg.MODEL.DEVICE = device  \n",
    "    cfg.MODEL.WEIGHTS = model_weights \n",
    "    cfg.MODEL.ROI_HEADS.SCORE_THRESH_TEST = 0.7  \n",
    "    cfg.INPUT.MIN_SIZE_TEST = 800\n",
    "    cfg.INPUT.MAX_SIZE_TEST = 1333\n",
    "    \n",
    "    return DefaultPredictor(cfg)\n",
    "\n",
    "def analyze_image(predictor, image_path):\n",
    "    # Load the image\n",
    "    im = cv2.imread(image_path)\n",
    "    outputs = predictor(im)\n",
    "    \n",
    "    # Visualize predictions\n",
    "    v = Visualizer(im[:, :, ::-1], \n",
    "                   scale=0.8, \n",
    "                   instance_mode=ColorMode.IMAGE_BW)  # Optionally change to IMAGE_BW for segmentation\n",
    "    v = v.draw_instance_predictions(outputs[\"instances\"].to(\"cpu\"))\n",
    "    processed_image = v.get_image()[:, :, ::-1]\n",
    "    \n",
    "\n",
    "    after_dir = \"Dataset/after\"\n",
    "    if not os.path.exists(after_dir):\n",
    "        os.makedirs(after_dir)\n",
    "    processed_path = os.path.join(after_dir, os.path.basename(image_path))\n",
    "    \n",
    "  \n",
    "    if not os.path.exists(processed_path):\n",
    "        cv2.imwrite(processed_path, processed_image)\n",
    "        print(f\"Processed and saved to {processed_path}\")\n",
    "    else:\n",
    "        print(f\"Image {processed_path} already exists. Skipping.\")\n",
    "    \n",
    "    return processed_path\n",
    "\n",
    "# Example usage\n",
    "if __name__ == \"__main__\":\n",
    "    model_weights = \"./output/model_final.pth\" \n",
    "    predictor = load_model(model_weights=model_weights)\n",
    "    \n",
    "    before_dir = \"./Dataset/before\"\n",
    "    \n",
    "    for filename in os.listdir(before_dir):\n",
    "        if filename.lower().endswith(('.png', '.jpg', '.jpeg')): \n",
    "            image_path = os.path.join(before_dir, filename)  \n",
    "            analyze_image(predictor, image_path)\n"
   ]
  },
  {
   "cell_type": "code",
   "execution_count": 4,
   "metadata": {},
   "outputs": [
    {
     "name": "stderr",
     "output_type": "stream",
     "text": [
      "c:\\Users\\walte\\AppData\\Local\\Programs\\Python\\Python312\\Lib\\site-packages\\fvcore\\common\\checkpoint.py:252: FutureWarning: You are using `torch.load` with `weights_only=False` (the current default value), which uses the default pickle module implicitly. It is possible to construct malicious pickle data which will execute arbitrary code during unpickling (See https://github.com/pytorch/pytorch/blob/main/SECURITY.md#untrusted-models for more details). In a future release, the default value for `weights_only` will be flipped to `True`. This limits the functions that could be executed during unpickling. Arbitrary objects will no longer be allowed to be loaded via this mode unless they are explicitly allowlisted by the user via `torch.serialization.add_safe_globals`. We recommend you start setting `weights_only=True` for any use case where you don't have full control of the loaded file. Please open an issue on GitHub for any issues related to this experimental feature.\n",
      "  return torch.load(f, map_location=torch.device(\"cpu\"))\n"
     ]
    },
    {
     "name": "stdout",
     "output_type": "stream",
     "text": [
      "Model loaded successfully with weights from: ../Drone/model_final.pth\n"
     ]
    }
   ],
   "source": [
    "import os\n",
    "import cv2\n",
    "from detectron2.engine import DefaultPredictor\n",
    "from detectron2.config import get_cfg\n",
    "from detectron2 import model_zoo\n",
    "from detectron2.utils.visualizer import Visualizer, ColorMode\n",
    "\n",
    "model_weights = \"../Drone/model_final.pth\"  # Update this path\n",
    "\n",
    "cfg = get_cfg()\n",
    "cfg.merge_from_file(model_zoo.get_config_file(\"COCO-InstanceSegmentation/mask_rcnn_R_50_FPN_3x.yaml\"))\n",
    "cfg.MODEL.ROI_HEADS.NUM_CLASSES = 2  \n",
    "cfg.MODEL.DEVICE = 'cpu'  \n",
    "cfg.MODEL.WEIGHTS = model_weights  # Load your model weights here\n",
    "cfg.MODEL.ROI_HEADS.SCORE_THRESH_TEST = 0.7  \n",
    "cfg.INPUT.MIN_SIZE_TEST = 800\n",
    "cfg.INPUT.MAX_SIZE_TEST = 1333\n",
    "\n",
    "try:\n",
    "    predictor = DefaultPredictor(cfg)\n",
    "    print(\"Model loaded successfully with weights from:\", model_weights)\n",
    "except AssertionError as e:\n",
    "    print(\"Error loading model:\", e)\n"
   ]
  }
 ],
 "metadata": {
  "kernelspec": {
   "display_name": "Python 3",
   "language": "python",
   "name": "python3"
  },
  "language_info": {
   "codemirror_mode": {
    "name": "ipython",
    "version": 3
   },
   "file_extension": ".py",
   "mimetype": "text/x-python",
   "name": "python",
   "nbconvert_exporter": "python",
   "pygments_lexer": "ipython3",
   "version": "3.12.4"
  }
 },
 "nbformat": 4,
 "nbformat_minor": 2
}
